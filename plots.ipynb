{
 "metadata": {
  "language_info": {
   "codemirror_mode": {
    "name": "ipython",
    "version": 3
   },
   "file_extension": ".py",
   "mimetype": "text/x-python",
   "name": "python",
   "nbconvert_exporter": "python",
   "pygments_lexer": "ipython3",
   "version": "3.9.5"
  },
  "orig_nbformat": 2,
  "kernelspec": {
   "name": "python395jvsc74a57bd0993719309b7497d4ea980752fffbdfc5c91491f5d8efe44ee08128fdc39f9023",
   "display_name": "Python 3.9.5 64-bit"
  },
  "metadata": {
   "interpreter": {
    "hash": "993719309b7497d4ea980752fffbdfc5c91491f5d8efe44ee08128fdc39f9023"
   }
  }
 },
 "nbformat": 4,
 "nbformat_minor": 2,
 "cells": [
  {
   "cell_type": "code",
   "execution_count": null,
   "metadata": {},
   "outputs": [],
   "source": [
    "import pickle\n",
    "import torch\n",
    "from scipy.io import wavfile\n",
    "import argparse\n",
    "import numpy as np\n",
    "import matplotlib.pyplot as plt\n",
    "from sklearn.preprocessing import StandardScaler\n",
    "\n",
    "from model import PedalNet\n",
    "\n",
    "MODEL = \"./hm2.ckpt\"\n",
    "DATA = \"data.pickle\"\n",
    "\n",
    "model = PedalNet.load_from_checkpoint(MODEL)\n",
    "model.eval()\n",
    "data = pickle.load(open(DATA, \"rb\"))\n",
    "\n",
    "x_test = data[\"x_test\"]\n",
    "y_test = data[\"y_test\"]\n",
    "print(x_test.dtype)\n",
    "print(max(abs(x_test.flatten())))\n",
    "prev_sample = np.concatenate((np.zeros_like(x_test[0:1]), x_test[:-1]), axis=0)\n",
    "pad_x_test = np.concatenate((prev_sample, x_test), axis=2)\n"
   ]
  },
  {
   "cell_type": "code",
   "execution_count": null,
   "metadata": {},
   "outputs": [],
   "source": [
    "y_pred = []\n",
    "for x in np.array_split(pad_x_test, 10):\n",
    "    y_pred.append(model(torch.from_numpy(x)).detach().numpy())\n",
    "\n",
    "y_pred = np.concatenate(y_pred)\n",
    "y_pred = y_pred[:, :, -x_test.shape[2] :]"
   ]
  },
  {
   "cell_type": "code",
   "execution_count": null,
   "metadata": {},
   "outputs": [],
   "source": [
    "print(data[\"std\"])\n",
    "print(data[\"mean\"])"
   ]
  },
  {
   "cell_type": "code",
   "execution_count": null,
   "metadata": {},
   "outputs": [],
   "source": [
    "y_pred = y_pred.flatten() * 10 * data[\"std\"] + data[\"mean\"]\n",
    "y_test = y_test.flatten() * 10 * data[\"std\"] + data[\"mean\"]\n",
    "\n",
    "plt.figure(figsize=(16,9))\n",
    "plt.title(\"x_test\")\n",
    "plt.plot(data[\"x_test\"].flatten())\n",
    "plt.figure(figsize=(16,9))\n",
    "plt.title(\"y_pred\")\n",
    "plt.plot(y_pred.flatten())\n",
    "plt.figure(figsize=(16,9))\n",
    "plt.title(\"y_test\")\n",
    "plt.plot(y_test)"
   ]
  },
  {
   "cell_type": "code",
   "execution_count": null,
   "metadata": {},
   "outputs": [],
   "source": [
    "error = abs(y_test) - abs(y_pred)\n",
    "plt.figure(figsize=(16,9))\n",
    "plt.plot(error)"
   ]
  },
  {
   "cell_type": "code",
   "execution_count": null,
   "metadata": {},
   "outputs": [],
   "source": [
    "import random\n",
    "def get_random_window(actual, predicted, window=1000):\n",
    "    total_size = len(predicted)\n",
    "    start = int(random.uniform(0, total_size-window))\n",
    "    end = start + window\n",
    "    return (actual[start:end], predicted[start:end])\n",
    "\n",
    "\n",
    "start = 150000\n",
    "end = start + 2000\n",
    "plt.figure(figsize=(16,9))\n",
    "plt.plot(y_test[start:end], label=\"Actual\")\n",
    "plt.plot(y_pred.flatten()[start:end], label=\"Predicted\")\n",
    "plt.legend()\n",
    "\n",
    "for i in range(5):\n",
    "    plt.figure(figsize=(16,9))\n",
    "    actual, predicted = get_random_window(y_test.flatten(), y_pred.flatten())\n",
    "    plt.plot(actual, label=\"Actual\")\n",
    "    plt.plot(predicted, label=\"Predicted\")\n",
    "    plt.legend()\n",
    "    plt.savefig(f\"actual_vs_pred_{i}.png\")"
   ]
  },
  {
   "cell_type": "code",
   "execution_count": null,
   "metadata": {},
   "outputs": [],
   "source": [
    "for i in range(5):\n",
    "    fig, axes = plt.subplots(nrows=2, ncols=1, figsize=(16,9))\n",
    "    actual, predicted = get_random_window(y_test.flatten(), y_pred.flatten(), 10000)\n",
    "    axes[0].specgram(actual, Fs=44100, mode=\"psd\", detrend=\"mean\")\n",
    "    axes[1].specgram(predicted, Fs=44100, mode=\"psd\", detrend=\"mean\")\n",
    "    axes[0].set_title(\"Actual\")\n",
    "    axes[1].set_title(\"Predicted\")\n",
    "    fig.suptitle(\"Spectrogram of random 10k sample window\")\n",
    "    fig.savefig(f\"spectrogram_{i}.png\")"
   ]
  },
  {
   "cell_type": "code",
   "execution_count": null,
   "metadata": {},
   "outputs": [],
   "source": []
  }
 ]
}